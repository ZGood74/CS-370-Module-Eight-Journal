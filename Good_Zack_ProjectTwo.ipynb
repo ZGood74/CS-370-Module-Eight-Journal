{
 "cells": [
  {
   "cell_type": "markdown",
   "metadata": {},
   "source": [
    "# Treasure Hunt Game Notebook\n",
    "\n",
    "## Read and Review Your Starter Code\n",
    "The theme of this project is a popular treasure hunt game in which the player needs to find the treasure before the pirate does. While you will not be developing the entire game, you will write the part of the game that represents the intelligent agent, which is a pirate in this case. The pirate will try to find the optimal path to the treasure using deep Q-learning. \n",
    "\n",
    "You have been provided with two Python classes and this notebook to help you with this assignment. The first class, TreasureMaze.py, represents the environment, which includes a maze object defined as a matrix. The second class, GameExperience.py, stores the episodes – that is, all the states that come in between the initial state and the terminal state. This is later used by the agent for learning by experience, called \"exploration\". This notebook shows how to play a game. Your task is to complete the deep Q-learning implementation for which a skeleton implementation has been provided. The code blocks you will need to complete has #TODO as a header.\n",
    "\n",
    "First, read and review the next few code and instruction blocks to understand the code that you have been given."
   ]
  },
  {
   "cell_type": "code",
   "execution_count": 1,
   "metadata": {},
   "outputs": [
    {
     "name": "stderr",
     "output_type": "stream",
     "text": [
      "Using TensorFlow backend.\n"
     ]
    }
   ],
   "source": [
    "from __future__ import print_function\n",
    "import os, sys, time, datetime, json, random\n",
    "import numpy as np\n",
    "from keras.models import Sequential\n",
    "from keras.layers.core import Dense, Activation\n",
    "from keras.optimizers import SGD , Adam, RMSprop\n",
    "from keras.layers.advanced_activations import PReLU\n",
    "import matplotlib.pyplot as plt\n",
    "from TreasureMaze import TreasureMaze\n",
    "from GameExperience import GameExperience\n",
    "%matplotlib inline"
   ]
  },
  {
   "cell_type": "markdown",
   "metadata": {},
   "source": [
    "The following code block contains an 8x8 matrix that will be used as a maze object:"
   ]
  },
  {
   "cell_type": "code",
   "execution_count": 2,
   "metadata": {},
   "outputs": [],
   "source": [
    "maze = np.array([\n",
    "    [ 1.,  0.,  1.,  1.,  1.,  1.,  1.,  1.],\n",
    "    [ 1.,  0.,  1.,  1.,  1.,  0.,  1.,  1.],\n",
    "    [ 1.,  1.,  1.,  1.,  0.,  1.,  0.,  1.],\n",
    "    [ 1.,  1.,  1.,  0.,  1.,  1.,  1.,  1.],\n",
    "    [ 1.,  1.,  0.,  1.,  1.,  1.,  1.,  1.],\n",
    "    [ 1.,  1.,  1.,  0.,  1.,  0.,  0.,  0.],\n",
    "    [ 1.,  1.,  1.,  0.,  1.,  1.,  1.,  1.],\n",
    "    [ 1.,  1.,  1.,  1.,  0.,  1.,  1.,  1.]\n",
    "])"
   ]
  },
  {
   "cell_type": "markdown",
   "metadata": {},
   "source": [
    "This helper function allows a visual representation of the maze object:"
   ]
  },
  {
   "cell_type": "code",
   "execution_count": 3,
   "metadata": {},
   "outputs": [],
   "source": [
    "def show(qmaze):\n",
    "    plt.grid('on')\n",
    "    nrows, ncols = qmaze.maze.shape\n",
    "    ax = plt.gca()\n",
    "    ax.set_xticks(np.arange(0.5, nrows, 1))\n",
    "    ax.set_yticks(np.arange(0.5, ncols, 1))\n",
    "    ax.set_xticklabels([])\n",
    "    ax.set_yticklabels([])\n",
    "    canvas = np.copy(qmaze.maze)\n",
    "    for row,col in qmaze.visited:\n",
    "        canvas[row,col] = 0.6\n",
    "    pirate_row, pirate_col, _ = qmaze.state\n",
    "    canvas[pirate_row, pirate_col] = 0.3   # pirate cell\n",
    "    canvas[nrows-1, ncols-1] = 0.9 # treasure cell\n",
    "    img = plt.imshow(canvas, interpolation='none', cmap='gray')\n",
    "    return img"
   ]
  },
  {
   "cell_type": "markdown",
   "metadata": {},
   "source": [
    "The pirate agent can move in four directions: left, right, up, and down. \n",
    "\n",
    "While the agent primarily learns by experience through exploitation, often, the agent can choose to explore the environment to find previously undiscovered paths. This is called \"exploration\" and is defined by epsilon. This value is typically a lower value such as 0.1, which means for every ten attempts, the agent will attempt to learn by experience nine times and will randomly explore a new path one time. You are encouraged to try various values for the exploration factor and see how the algorithm performs."
   ]
  },
  {
   "cell_type": "code",
   "execution_count": 4,
   "metadata": {},
   "outputs": [],
   "source": [
    "LEFT = 0\n",
    "UP = 1\n",
    "RIGHT = 2\n",
    "DOWN = 3\n",
    "\n",
    "\n",
    "# Exploration factor\n",
    "epsilon = 0.1\n",
    "\n",
    "# Actions dictionary\n",
    "actions_dict = {\n",
    "    LEFT: 'left',\n",
    "    UP: 'up',\n",
    "    RIGHT: 'right',\n",
    "    DOWN: 'down',\n",
    "}\n",
    "\n",
    "num_actions = len(actions_dict)\n"
   ]
  },
  {
   "cell_type": "markdown",
   "metadata": {},
   "source": [
    "The sample code block and output below show creating a maze object and performing one action (DOWN), which returns the reward. The resulting updated environment is visualized."
   ]
  },
  {
   "cell_type": "code",
   "execution_count": 5,
   "metadata": {},
   "outputs": [
    {
     "name": "stdout",
     "output_type": "stream",
     "text": [
      "reward= -0.04\n"
     ]
    },
    {
     "data": {
      "text/plain": [
       "<matplotlib.image.AxesImage at 0x1eade19df88>"
      ]
     },
     "execution_count": 5,
     "metadata": {},
     "output_type": "execute_result"
    },
    {
     "data": {
      "image/png": "[encoded data removed]",
      "text/plain": [
       "<Figure size 432x288 with 1 Axes>"
      ]
     },
     "metadata": {
      "needs_background": "light"
     },
     "output_type": "display_data"
    }
   ],
   "source": [
    "qmaze = TreasureMaze(maze)\n",
    "canvas, reward, game_over = qmaze.act(DOWN)\n",
    "print(\"reward=\", reward)\n",
    "show(qmaze)"
   ]
  },
  {
   "cell_type": "markdown",
   "metadata": {},
   "source": [
    "This function simulates a full game based on the provided trained model. The other parameters include the TreasureMaze object and the starting position of the pirate."
   ]
  },
  {
   "cell_type": "code",
   "execution_count": 6,
   "metadata": {},
   "outputs": [],
   "source": [
    "def play_game(model, qmaze, pirate_cell):\n",
    "    qmaze.reset(pirate_cell)\n",
    "    envstate = qmaze.observe()\n",
    "    while True:\n",
    "        prev_envstate = envstate\n",
    "        # get next action\n",
    "        q = model.predict(prev_envstate)\n",
    "        action = np.argmax(q[0])\n",
    "\n",
    "        # apply action, get rewards and new state\n",
    "        envstate, reward, game_status = qmaze.act(action)\n",
    "        if game_status == 'win':\n",
    "            return True\n",
    "        elif game_status == 'lose':\n",
    "            return False"
   ]
  },
  {
   "cell_type": "markdown",
   "metadata": {},
   "source": [
    "This function helps you to determine whether the pirate can win any game at all. If your maze is not well designed, the pirate may not win any game at all. In this case, your training would not yield any result. The provided maze in this notebook ensures that there is a path to win and you can run this method to check."
   ]
  },
  {
   "cell_type": "code",
   "execution_count": 7,
   "metadata": {},
   "outputs": [],
   "source": [
    "def completion_check(model, qmaze):\n",
    "    for cell in qmaze.free_cells:\n",
    "        if not qmaze.valid_actions(cell):\n",
    "            return False\n",
    "        if not play_game(model, qmaze, cell):\n",
    "            return False\n",
    "    return True"
   ]
  },
  {
   "cell_type": "markdown",
   "metadata": {},
   "source": [
    "The code you have been given in this block will build the neural network model. Review the code and note the number of layers, as well as the activation, optimizer, and loss functions that are used to train the model."
   ]
  },
  {
   "cell_type": "code",
   "execution_count": 8,
   "metadata": {},
   "outputs": [],
   "source": [
    "def build_model(maze):\n",
    "    model = Sequential()\n",
    "    model.add(Dense(maze.size, input_shape=(maze.size,)))\n",
    "    model.add(PReLU())\n",
    "    model.add(Dense(maze.size))\n",
    "    model.add(PReLU())\n",
    "    model.add(Dense(num_actions))\n",
    "    model.compile(optimizer='adam', loss='mse')\n",
    "    return model"
   ]
  },
  {
   "cell_type": "markdown",
   "metadata": {},
   "source": [
    "# #TODO: Complete the Q-Training Algorithm Code Block\n",
    "\n",
    "This is your deep Q-learning implementation. The goal of your deep Q-learning implementation is to find the best possible navigation sequence that results in reaching the treasure cell while maximizing the reward. In your implementation, you need to determine the optimal number of epochs to achieve a 100% win rate.\n",
    "\n",
    "You will need to complete the section starting with #pseudocode. The pseudocode has been included for you."
   ]
  },
  {
   "cell_type": "code",
   "execution_count": 9,
   "metadata": {},
   "outputs": [],
   "source": [
    "def qtrain(model, maze, **opt):\n",
    "    global epsilon  # Exploration factor\n",
    "\n",
    "    # Training parameters\n",
    "    n_epoch = opt.get('n_epoch', 15000)\n",
    "    max_memory = opt.get('max_memory', 1000)\n",
    "    data_size = opt.get('data_size', 50)\n",
    "\n",
    "    start_time = datetime.datetime.now()\n",
    "\n",
    "    # Create environment\n",
    "    qmaze = TreasureMaze(maze)\n",
    "    experience = GameExperience(model, max_memory=max_memory)\n",
    "\n",
    "    win_history = []  # Track win/loss history\n",
    "    hsize = qmaze.maze.size // 2  # Win rate history window size\n",
    "    win_rate = 0.0\n",
    "    n_episodes = 0\n",
    "    loss = 0.0\n",
    "\n",
    "    for epoch in range(n_epoch):\n",
    "        n_episodes += 1\n",
    "        agent_cell = random.choice(qmaze.free_cells)\n",
    "        qmaze.reset(agent_cell)\n",
    "        envstate = qmaze.observe()\n",
    "\n",
    "        while True:\n",
    "            prev_envstate = envstate\n",
    "\n",
    "            # Epsilon-greedy strategy: explore vs exploit\n",
    "            if np.random.rand() < epsilon:\n",
    "                action = np.random.randint(0, num_actions)\n",
    "            else:\n",
    "                q_values = model.predict(prev_envstate)\n",
    "                action = np.argmax(q_values[0])\n",
    "\n",
    "            # Take action and update state\n",
    "            envstate, reward, game_status = qmaze.act(action)\n",
    "\n",
    "            # Store experience\n",
    "            episode = [prev_envstate, action, reward, envstate, game_status]\n",
    "            experience.remember(episode)\n",
    "\n",
    "            # Train on replayed experience\n",
    "            inputs, targets = experience.get_data(data_size=data_size)\n",
    "            model.fit(inputs, targets, epochs=1, verbose=0)\n",
    "            loss = model.evaluate(inputs, targets, verbose=0)\n",
    "\n",
    "            if game_status in ('win', 'lose'):\n",
    "                win_history.append(1 if game_status == 'win' else 0)\n",
    "                break\n",
    "\n",
    "        # Update win rate\n",
    "        win_rate = sum(win_history[-hsize:]) / float(hsize)\n",
    "\n",
    "        # Print training progress\n",
    "        t = format_time((datetime.datetime.now() - start_time).total_seconds())\n",
    "        print(\"Epoch: {:03d}/{:d} | Loss: {:.4f} | Episodes: {:d} | Win count: {:d} | Win rate: {:.3f} | time: {}\".format(\n",
    "            epoch, n_epoch - 1, loss, n_episodes, sum(win_history), win_rate, t\n",
    "        ))\n",
    "\n",
    "        # Adjust exploration rate\n",
    "        if win_rate > 0.9:\n",
    "            epsilon = 0.05\n",
    "\n",
    "        # Early stopping condition\n",
    "        if sum(win_history[-hsize:]) == hsize and completion_check(model, qmaze):\n",
    "            print(\"Reached 100% win rate at epoch: %d\" % epoch)\n",
    "            break\n",
    "\n",
    "    # Final training summary\n",
    "    total_time = format_time((datetime.datetime.now() - start_time).total_seconds())\n",
    "    print(\"n_epoch: %d, max_mem: %d, data: %d, time: %s\" % (epoch, max_memory, data_size, total_time))\n",
    "    return total_time\n",
    "\n",
    "\n",
    "# Utility function for formatting time durations\n",
    "def format_time(seconds):\n",
    "    if seconds < 400:\n",
    "        return \"%.1f seconds\" % seconds\n",
    "    elif seconds < 4000:\n",
    "        return \"%.2f minutes\" % (seconds / 60.0)\n",
    "    else:\n",
    "        return \"%.2f hours\" % (seconds / 3600.0)\n"
   ]
  },
  {
   "cell_type": "markdown",
   "metadata": {},
   "source": [
    "## Test Your Model\n",
    "\n",
    "Now we will start testing the deep Q-learning implementation. To begin, select **Cell**, then **Run All** from the menu bar. This will run your notebook. As it runs, you should see output begin to appear beneath the next few cells. The code below creates an instance of TreasureMaze."
   ]
  },
  {
   "cell_type": "code",
   "execution_count": 10,
   "metadata": {},
   "outputs": [
    {
     "data": {
      "text/plain": [
       "<matplotlib.image.AxesImage at 0x1eadf22f188>"
      ]
     },
     "execution_count": 10,
     "metadata": {},
     "output_type": "execute_result"
    },
    {
     "data": {
      "image/png": "[encoded data removed]",
      "text/plain": [
       "<Figure size 432x288 with 1 Axes>"
      ]
     },
     "metadata": {
      "needs_background": "light"
     },
     "output_type": "display_data"
    }
   ],
   "source": [
    "qmaze = TreasureMaze(maze)\n",
    "show(qmaze)"
   ]
  },
  {
   "cell_type": "markdown",
   "metadata": {},
   "source": [
    "In the next code block, you will build your model and train it using deep Q-learning. Note: This step takes several minutes to fully run."
   ]
  },
  {
   "cell_type": "code",
   "execution_count": 12,
   "metadata": {
    "scrolled": true
   },
   "outputs": [
    {
     "name": "stdout",
     "output_type": "stream",
     "text": [
      "Epoch: 000/999 | Loss: 0.2083 | Episodes: 1 | Win count: 1 | Win rate: 0.031 | time: 0.0 seconds\n",
      "Epoch: 001/999 | Loss: 0.0110 | Episodes: 2 | Win count: 1 | Win rate: 0.031 | time: 24.9 seconds\n",
      "Epoch: 002/999 | Loss: 0.0096 | Episodes: 3 | Win count: 1 | Win rate: 0.031 | time: 54.2 seconds\n",
      "Epoch: 003/999 | Loss: 0.0019 | Episodes: 4 | Win count: 1 | Win rate: 0.031 | time: 85.1 seconds\n",
      "Epoch: 004/999 | Loss: 0.0012 | Episodes: 5 | Win count: 2 | Win rate: 0.062 | time: 86.0 seconds\n",
      "Epoch: 005/999 | Loss: 0.0011 | Episodes: 6 | Win count: 2 | Win rate: 0.062 | time: 116.9 seconds\n",
      "Epoch: 006/999 | Loss: 0.0004 | Episodes: 7 | Win count: 2 | Win rate: 0.062 | time: 147.7 seconds\n",
      "Epoch: 007/999 | Loss: 0.0012 | Episodes: 8 | Win count: 2 | Win rate: 0.062 | time: 180.1 seconds\n",
      "Epoch: 008/999 | Loss: 0.0006 | Episodes: 9 | Win count: 2 | Win rate: 0.062 | time: 214.9 seconds\n",
      "Epoch: 009/999 | Loss: 0.0005 | Episodes: 10 | Win count: 2 | Win rate: 0.062 | time: 248.3 seconds\n",
      "Epoch: 010/999 | Loss: 0.0009 | Episodes: 11 | Win count: 3 | Win rate: 0.094 | time: 248.9 seconds\n",
      "Epoch: 011/999 | Loss: 0.0009 | Episodes: 12 | Win count: 4 | Win rate: 0.125 | time: 249.2 seconds\n",
      "Epoch: 012/999 | Loss: 0.0007 | Episodes: 13 | Win count: 4 | Win rate: 0.125 | time: 280.8 seconds\n",
      "Epoch: 013/999 | Loss: 0.0011 | Episodes: 14 | Win count: 4 | Win rate: 0.125 | time: 312.7 seconds\n",
      "Epoch: 014/999 | Loss: 0.0005 | Episodes: 15 | Win count: 4 | Win rate: 0.125 | time: 342.0 seconds\n",
      "Epoch: 015/999 | Loss: 0.0003 | Episodes: 16 | Win count: 4 | Win rate: 0.125 | time: 374.6 seconds\n",
      "Epoch: 016/999 | Loss: 0.0011 | Episodes: 17 | Win count: 4 | Win rate: 0.125 | time: 6.78 minutes\n",
      "Epoch: 017/999 | Loss: 0.0014 | Episodes: 18 | Win count: 4 | Win rate: 0.125 | time: 7.25 minutes\n",
      "Epoch: 018/999 | Loss: 0.0011 | Episodes: 19 | Win count: 4 | Win rate: 0.125 | time: 7.72 minutes\n",
      "Epoch: 019/999 | Loss: 0.0017 | Episodes: 20 | Win count: 4 | Win rate: 0.125 | time: 8.21 minutes\n",
      "Epoch: 020/999 | Loss: 0.0009 | Episodes: 21 | Win count: 5 | Win rate: 0.156 | time: 8.22 minutes\n",
      "Epoch: 021/999 | Loss: 0.0014 | Episodes: 22 | Win count: 5 | Win rate: 0.156 | time: 8.78 minutes\n",
      "Epoch: 022/999 | Loss: 0.0012 | Episodes: 23 | Win count: 5 | Win rate: 0.156 | time: 9.25 minutes\n",
      "Epoch: 023/999 | Loss: 0.0011 | Episodes: 24 | Win count: 5 | Win rate: 0.156 | time: 9.50 minutes\n",
      "Epoch: 024/999 | Loss: 0.0010 | Episodes: 25 | Win count: 5 | Win rate: 0.156 | time: 9.83 minutes\n",
      "Epoch: 025/999 | Loss: 0.0005 | Episodes: 26 | Win count: 5 | Win rate: 0.156 | time: 10.09 minutes\n",
      "Epoch: 026/999 | Loss: 0.0005 | Episodes: 27 | Win count: 5 | Win rate: 0.156 | time: 10.35 minutes\n",
      "Epoch: 027/999 | Loss: 0.0006 | Episodes: 28 | Win count: 5 | Win rate: 0.156 | time: 10.63 minutes\n",
      "Epoch: 028/999 | Loss: 0.0013 | Episodes: 29 | Win count: 5 | Win rate: 0.156 | time: 10.88 minutes\n",
      "Epoch: 029/999 | Loss: 0.0016 | Episodes: 30 | Win count: 5 | Win rate: 0.156 | time: 11.12 minutes\n",
      "Epoch: 030/999 | Loss: 0.0003 | Episodes: 31 | Win count: 5 | Win rate: 0.156 | time: 11.38 minutes\n",
      "Epoch: 031/999 | Loss: 0.0003 | Episodes: 32 | Win count: 5 | Win rate: 0.156 | time: 11.65 minutes\n",
      "Epoch: 032/999 | Loss: 0.0007 | Episodes: 33 | Win count: 5 | Win rate: 0.125 | time: 11.91 minutes\n",
      "Epoch: 033/999 | Loss: 0.0004 | Episodes: 34 | Win count: 5 | Win rate: 0.125 | time: 12.17 minutes\n",
      "Epoch: 034/999 | Loss: 0.0012 | Episodes: 35 | Win count: 5 | Win rate: 0.125 | time: 12.44 minutes\n",
      "Epoch: 035/999 | Loss: 0.0012 | Episodes: 36 | Win count: 5 | Win rate: 0.125 | time: 12.70 minutes\n",
      "Epoch: 036/999 | Loss: 0.0009 | Episodes: 37 | Win count: 5 | Win rate: 0.094 | time: 12.95 minutes\n",
      "Epoch: 037/999 | Loss: 0.0013 | Episodes: 38 | Win count: 5 | Win rate: 0.094 | time: 13.19 minutes\n",
      "Epoch: 038/999 | Loss: 0.0014 | Episodes: 39 | Win count: 6 | Win rate: 0.125 | time: 13.20 minutes\n",
      "Epoch: 039/999 | Loss: 0.0012 | Episodes: 40 | Win count: 7 | Win rate: 0.156 | time: 13.23 minutes\n",
      "Epoch: 040/999 | Loss: 0.0135 | Episodes: 41 | Win count: 8 | Win rate: 0.188 | time: 13.25 minutes\n",
      "Epoch: 041/999 | Loss: 0.0124 | Episodes: 42 | Win count: 9 | Win rate: 0.219 | time: 13.26 minutes\n",
      "Epoch: 042/999 | Loss: 0.0015 | Episodes: 43 | Win count: 9 | Win rate: 0.188 | time: 13.57 minutes\n",
      "Epoch: 043/999 | Loss: 0.0103 | Episodes: 44 | Win count: 10 | Win rate: 0.188 | time: 13.63 minutes\n",
      "Epoch: 044/999 | Loss: 0.0021 | Episodes: 45 | Win count: 11 | Win rate: 0.219 | time: 13.63 minutes\n",
      "Epoch: 045/999 | Loss: 0.0021 | Episodes: 46 | Win count: 11 | Win rate: 0.219 | time: 13.91 minutes\n",
      "Epoch: 046/999 | Loss: 0.0005 | Episodes: 47 | Win count: 11 | Win rate: 0.219 | time: 14.17 minutes\n",
      "Epoch: 047/999 | Loss: 0.0009 | Episodes: 48 | Win count: 11 | Win rate: 0.219 | time: 14.43 minutes\n",
      "Epoch: 048/999 | Loss: 0.0010 | Episodes: 49 | Win count: 11 | Win rate: 0.219 | time: 14.76 minutes\n",
      "Epoch: 049/999 | Loss: 0.0017 | Episodes: 50 | Win count: 11 | Win rate: 0.219 | time: 15.02 minutes\n",
      "Epoch: 050/999 | Loss: 0.0006 | Episodes: 51 | Win count: 11 | Win rate: 0.219 | time: 15.30 minutes\n",
      "Epoch: 051/999 | Loss: 0.0009 | Episodes: 52 | Win count: 11 | Win rate: 0.219 | time: 15.54 minutes\n",
      "Epoch: 052/999 | Loss: 0.0006 | Episodes: 53 | Win count: 11 | Win rate: 0.188 | time: 15.77 minutes\n",
      "Epoch: 053/999 | Loss: 0.0011 | Episodes: 54 | Win count: 11 | Win rate: 0.188 | time: 16.03 minutes\n",
      "Epoch: 054/999 | Loss: 0.0006 | Episodes: 55 | Win count: 11 | Win rate: 0.188 | time: 16.26 minutes\n",
      "Epoch: 055/999 | Loss: 0.0009 | Episodes: 56 | Win count: 11 | Win rate: 0.188 | time: 16.48 minutes\n",
      "Epoch: 056/999 | Loss: 0.0010 | Episodes: 57 | Win count: 11 | Win rate: 0.188 | time: 16.74 minutes\n",
      "Epoch: 057/999 | Loss: 0.0021 | Episodes: 58 | Win count: 12 | Win rate: 0.219 | time: 17.01 minutes\n",
      "Epoch: 058/999 | Loss: 0.0014 | Episodes: 59 | Win count: 13 | Win rate: 0.250 | time: 17.02 minutes\n",
      "Epoch: 059/999 | Loss: 0.0115 | Episodes: 60 | Win count: 14 | Win rate: 0.281 | time: 17.14 minutes\n",
      "Epoch: 060/999 | Loss: 0.0013 | Episodes: 61 | Win count: 14 | Win rate: 0.281 | time: 17.44 minutes\n",
      "Epoch: 061/999 | Loss: 0.0012 | Episodes: 62 | Win count: 14 | Win rate: 0.281 | time: 17.70 minutes\n",
      "Epoch: 062/999 | Loss: 0.0010 | Episodes: 63 | Win count: 14 | Win rate: 0.281 | time: 18.00 minutes\n",
      "Epoch: 063/999 | Loss: 0.0109 | Episodes: 64 | Win count: 15 | Win rate: 0.312 | time: 18.04 minutes\n",
      "Epoch: 064/999 | Loss: 0.0104 | Episodes: 65 | Win count: 16 | Win rate: 0.344 | time: 18.08 minutes\n",
      "Epoch: 065/999 | Loss: 0.0024 | Episodes: 66 | Win count: 17 | Win rate: 0.375 | time: 18.33 minutes\n",
      "Epoch: 066/999 | Loss: 0.0022 | Episodes: 67 | Win count: 17 | Win rate: 0.375 | time: 18.59 minutes\n",
      "Epoch: 067/999 | Loss: 0.0015 | Episodes: 68 | Win count: 18 | Win rate: 0.406 | time: 18.68 minutes\n",
      "Epoch: 068/999 | Loss: 0.0009 | Episodes: 69 | Win count: 19 | Win rate: 0.438 | time: 18.90 minutes\n",
      "Epoch: 069/999 | Loss: 0.0025 | Episodes: 70 | Win count: 20 | Win rate: 0.469 | time: 18.91 minutes\n",
      "Epoch: 070/999 | Loss: 0.0063 | Episodes: 71 | Win count: 21 | Win rate: 0.469 | time: 18.95 minutes\n",
      "Epoch: 071/999 | Loss: 0.0015 | Episodes: 72 | Win count: 21 | Win rate: 0.438 | time: 19.22 minutes\n",
      "Epoch: 072/999 | Loss: 0.0016 | Episodes: 73 | Win count: 21 | Win rate: 0.406 | time: 19.50 minutes\n",
      "Epoch: 073/999 | Loss: 0.0013 | Episodes: 74 | Win count: 21 | Win rate: 0.375 | time: 19.78 minutes\n",
      "Epoch: 074/999 | Loss: 0.0008 | Episodes: 75 | Win count: 21 | Win rate: 0.375 | time: 20.06 minutes\n",
      "Epoch: 075/999 | Loss: 0.0006 | Episodes: 76 | Win count: 21 | Win rate: 0.344 | time: 20.42 minutes\n",
      "Epoch: 076/999 | Loss: 0.0004 | Episodes: 77 | Win count: 22 | Win rate: 0.344 | time: 20.66 minutes\n",
      "Epoch: 077/999 | Loss: 0.0009 | Episodes: 78 | Win count: 23 | Win rate: 0.375 | time: 20.67 minutes\n",
      "Epoch: 078/999 | Loss: 0.0006 | Episodes: 79 | Win count: 24 | Win rate: 0.406 | time: 20.71 minutes\n",
      "Epoch: 079/999 | Loss: 0.0007 | Episodes: 80 | Win count: 25 | Win rate: 0.438 | time: 20.79 minutes\n",
      "Epoch: 080/999 | Loss: 0.0009 | Episodes: 81 | Win count: 26 | Win rate: 0.469 | time: 20.91 minutes\n",
      "Epoch: 081/999 | Loss: 0.0012 | Episodes: 82 | Win count: 27 | Win rate: 0.500 | time: 20.92 minutes\n"
     ]
    },
    {
     "name": "stdout",
     "output_type": "stream",
     "text": [
      "Epoch: 082/999 | Loss: 0.0012 | Episodes: 83 | Win count: 28 | Win rate: 0.531 | time: 20.97 minutes\n",
      "Epoch: 083/999 | Loss: 0.0019 | Episodes: 84 | Win count: 28 | Win rate: 0.531 | time: 21.26 minutes\n",
      "Epoch: 084/999 | Loss: 0.0015 | Episodes: 85 | Win count: 28 | Win rate: 0.531 | time: 21.72 minutes\n",
      "Epoch: 085/999 | Loss: 0.0008 | Episodes: 86 | Win count: 29 | Win rate: 0.562 | time: 21.88 minutes\n",
      "Epoch: 086/999 | Loss: 0.0008 | Episodes: 87 | Win count: 29 | Win rate: 0.562 | time: 22.40 minutes\n",
      "Epoch: 087/999 | Loss: 0.0021 | Episodes: 88 | Win count: 29 | Win rate: 0.562 | time: 22.92 minutes\n",
      "Epoch: 088/999 | Loss: 0.0015 | Episodes: 89 | Win count: 30 | Win rate: 0.594 | time: 23.07 minutes\n",
      "Epoch: 089/999 | Loss: 0.0008 | Episodes: 90 | Win count: 31 | Win rate: 0.594 | time: 23.13 minutes\n",
      "Epoch: 090/999 | Loss: 0.0016 | Episodes: 91 | Win count: 31 | Win rate: 0.562 | time: 23.71 minutes\n",
      "Epoch: 091/999 | Loss: 0.0016 | Episodes: 92 | Win count: 32 | Win rate: 0.562 | time: 23.86 minutes\n",
      "Epoch: 092/999 | Loss: 0.0014 | Episodes: 93 | Win count: 32 | Win rate: 0.562 | time: 24.44 minutes\n",
      "Epoch: 093/999 | Loss: 0.0008 | Episodes: 94 | Win count: 33 | Win rate: 0.594 | time: 24.49 minutes\n",
      "Epoch: 094/999 | Loss: 0.0012 | Episodes: 95 | Win count: 33 | Win rate: 0.594 | time: 25.06 minutes\n",
      "Epoch: 095/999 | Loss: 0.0011 | Episodes: 96 | Win count: 34 | Win rate: 0.594 | time: 25.09 minutes\n",
      "Epoch: 096/999 | Loss: 0.0011 | Episodes: 97 | Win count: 34 | Win rate: 0.562 | time: 25.64 minutes\n",
      "Epoch: 097/999 | Loss: 0.0015 | Episodes: 98 | Win count: 34 | Win rate: 0.531 | time: 26.18 minutes\n",
      "Epoch: 098/999 | Loss: 0.0005 | Episodes: 99 | Win count: 34 | Win rate: 0.531 | time: 26.72 minutes\n",
      "Epoch: 099/999 | Loss: 0.0011 | Episodes: 100 | Win count: 35 | Win rate: 0.531 | time: 26.72 minutes\n",
      "Epoch: 100/999 | Loss: 0.0009 | Episodes: 101 | Win count: 36 | Win rate: 0.531 | time: 26.78 minutes\n",
      "Epoch: 101/999 | Loss: 0.0012 | Episodes: 102 | Win count: 37 | Win rate: 0.531 | time: 26.85 minutes\n",
      "Epoch: 102/999 | Loss: 0.0005 | Episodes: 103 | Win count: 37 | Win rate: 0.500 | time: 27.40 minutes\n",
      "Epoch: 103/999 | Loss: 0.0012 | Episodes: 104 | Win count: 38 | Win rate: 0.531 | time: 27.88 minutes\n",
      "Epoch: 104/999 | Loss: 0.0006 | Episodes: 105 | Win count: 38 | Win rate: 0.531 | time: 28.41 minutes\n",
      "Epoch: 105/999 | Loss: 0.0010 | Episodes: 106 | Win count: 39 | Win rate: 0.562 | time: 28.50 minutes\n",
      "Epoch: 106/999 | Loss: 0.0011 | Episodes: 107 | Win count: 39 | Win rate: 0.562 | time: 29.17 minutes\n",
      "Epoch: 107/999 | Loss: 0.0013 | Episodes: 108 | Win count: 39 | Win rate: 0.562 | time: 29.79 minutes\n",
      "Epoch: 108/999 | Loss: 0.0014 | Episodes: 109 | Win count: 40 | Win rate: 0.562 | time: 29.81 minutes\n",
      "Epoch: 109/999 | Loss: 0.0011 | Episodes: 110 | Win count: 40 | Win rate: 0.531 | time: 30.36 minutes\n",
      "Epoch: 110/999 | Loss: 0.0012 | Episodes: 111 | Win count: 41 | Win rate: 0.531 | time: 30.89 minutes\n",
      "Epoch: 111/999 | Loss: 0.0007 | Episodes: 112 | Win count: 42 | Win rate: 0.531 | time: 30.94 minutes\n",
      "Epoch: 112/999 | Loss: 0.0014 | Episodes: 113 | Win count: 43 | Win rate: 0.531 | time: 30.99 minutes\n",
      "Epoch: 113/999 | Loss: 0.0009 | Episodes: 114 | Win count: 44 | Win rate: 0.531 | time: 31.04 minutes\n",
      "Epoch: 114/999 | Loss: 0.0013 | Episodes: 115 | Win count: 45 | Win rate: 0.531 | time: 31.63 minutes\n",
      "Epoch: 115/999 | Loss: 0.0012 | Episodes: 116 | Win count: 46 | Win rate: 0.562 | time: 31.71 minutes\n",
      "Epoch: 116/999 | Loss: 0.0017 | Episodes: 117 | Win count: 47 | Win rate: 0.594 | time: 31.78 minutes\n",
      "Epoch: 117/999 | Loss: 0.0013 | Episodes: 118 | Win count: 48 | Win rate: 0.594 | time: 31.79 minutes\n",
      "Epoch: 118/999 | Loss: 0.0012 | Episodes: 119 | Win count: 49 | Win rate: 0.625 | time: 31.86 minutes\n",
      "Epoch: 119/999 | Loss: 0.0011 | Episodes: 120 | Win count: 50 | Win rate: 0.656 | time: 32.00 minutes\n",
      "Epoch: 120/999 | Loss: 0.0010 | Episodes: 121 | Win count: 51 | Win rate: 0.656 | time: 32.06 minutes\n",
      "Epoch: 121/999 | Loss: 0.0014 | Episodes: 122 | Win count: 52 | Win rate: 0.656 | time: 32.20 minutes\n",
      "Epoch: 122/999 | Loss: 0.0020 | Episodes: 123 | Win count: 53 | Win rate: 0.688 | time: 32.29 minutes\n",
      "Epoch: 123/999 | Loss: 0.0009 | Episodes: 124 | Win count: 54 | Win rate: 0.688 | time: 32.38 minutes\n",
      "Epoch: 124/999 | Loss: 0.0014 | Episodes: 125 | Win count: 55 | Win rate: 0.719 | time: 32.51 minutes\n",
      "Epoch: 125/999 | Loss: 0.0008 | Episodes: 126 | Win count: 56 | Win rate: 0.719 | time: 32.66 minutes\n",
      "Epoch: 126/999 | Loss: 0.0014 | Episodes: 127 | Win count: 57 | Win rate: 0.750 | time: 32.71 minutes\n",
      "Epoch: 127/999 | Loss: 0.0005 | Episodes: 128 | Win count: 58 | Win rate: 0.750 | time: 32.72 minutes\n",
      "Epoch: 128/999 | Loss: 0.0008 | Episodes: 129 | Win count: 59 | Win rate: 0.781 | time: 32.79 minutes\n",
      "Epoch: 129/999 | Loss: 0.0008 | Episodes: 130 | Win count: 60 | Win rate: 0.812 | time: 32.83 minutes\n",
      "Epoch: 130/999 | Loss: 0.0010 | Episodes: 131 | Win count: 61 | Win rate: 0.844 | time: 33.03 minutes\n",
      "Epoch: 131/999 | Loss: 0.0014 | Episodes: 132 | Win count: 62 | Win rate: 0.844 | time: 33.19 minutes\n",
      "Epoch: 132/999 | Loss: 0.0012 | Episodes: 133 | Win count: 63 | Win rate: 0.844 | time: 33.20 minutes\n",
      "Epoch: 133/999 | Loss: 0.0016 | Episodes: 134 | Win count: 64 | Win rate: 0.844 | time: 33.31 minutes\n",
      "Epoch: 134/999 | Loss: 0.0008 | Episodes: 135 | Win count: 65 | Win rate: 0.875 | time: 33.37 minutes\n",
      "Epoch: 135/999 | Loss: 0.0006 | Episodes: 136 | Win count: 66 | Win rate: 0.875 | time: 33.47 minutes\n",
      "Epoch: 136/999 | Loss: 0.0011 | Episodes: 137 | Win count: 67 | Win rate: 0.906 | time: 33.56 minutes\n",
      "Epoch: 137/999 | Loss: 0.0014 | Episodes: 138 | Win count: 68 | Win rate: 0.906 | time: 33.65 minutes\n",
      "Epoch: 138/999 | Loss: 0.0015 | Episodes: 139 | Win count: 69 | Win rate: 0.938 | time: 33.71 minutes\n",
      "Epoch: 139/999 | Loss: 0.0012 | Episodes: 140 | Win count: 70 | Win rate: 0.969 | time: 33.72 minutes\n",
      "Epoch: 140/999 | Loss: 0.0012 | Episodes: 141 | Win count: 71 | Win rate: 0.969 | time: 33.86 minutes\n",
      "Epoch: 141/999 | Loss: 0.0015 | Episodes: 142 | Win count: 72 | Win rate: 1.000 | time: 33.92 minutes\n",
      "Epoch: 142/999 | Loss: 0.0015 | Episodes: 143 | Win count: 73 | Win rate: 1.000 | time: 33.94 minutes\n",
      "Epoch: 143/999 | Loss: 0.0021 | Episodes: 144 | Win count: 74 | Win rate: 1.000 | time: 34.05 minutes\n",
      "Epoch: 144/999 | Loss: 0.0009 | Episodes: 145 | Win count: 75 | Win rate: 1.000 | time: 34.20 minutes\n",
      "Epoch: 145/999 | Loss: 0.0009 | Episodes: 146 | Win count: 76 | Win rate: 1.000 | time: 34.31 minutes\n",
      "Epoch: 146/999 | Loss: 0.0012 | Episodes: 147 | Win count: 77 | Win rate: 1.000 | time: 34.38 minutes\n",
      "Epoch: 147/999 | Loss: 0.0010 | Episodes: 148 | Win count: 78 | Win rate: 1.000 | time: 34.48 minutes\n",
      "Epoch: 148/999 | Loss: 0.0008 | Episodes: 149 | Win count: 79 | Win rate: 1.000 | time: 34.57 minutes\n",
      "Epoch: 149/999 | Loss: 0.0009 | Episodes: 150 | Win count: 80 | Win rate: 1.000 | time: 34.60 minutes\n",
      "Epoch: 150/999 | Loss: 0.0016 | Episodes: 151 | Win count: 81 | Win rate: 1.000 | time: 34.74 minutes\n",
      "Epoch: 151/999 | Loss: 0.0006 | Episodes: 152 | Win count: 82 | Win rate: 1.000 | time: 34.86 minutes\n",
      "Epoch: 152/999 | Loss: 0.0006 | Episodes: 153 | Win count: 83 | Win rate: 1.000 | time: 34.90 minutes\n",
      "Epoch: 153/999 | Loss: 0.0005 | Episodes: 154 | Win count: 84 | Win rate: 1.000 | time: 34.97 minutes\n",
      "Epoch: 154/999 | Loss: 0.0006 | Episodes: 155 | Win count: 85 | Win rate: 1.000 | time: 35.09 minutes\n",
      "Epoch: 155/999 | Loss: 0.0009 | Episodes: 156 | Win count: 86 | Win rate: 1.000 | time: 35.17 minutes\n",
      "Epoch: 156/999 | Loss: 0.0002 | Episodes: 157 | Win count: 87 | Win rate: 1.000 | time: 35.24 minutes\n",
      "Epoch: 157/999 | Loss: 0.0007 | Episodes: 158 | Win count: 88 | Win rate: 1.000 | time: 35.32 minutes\n",
      "Epoch: 158/999 | Loss: 0.0008 | Episodes: 159 | Win count: 89 | Win rate: 1.000 | time: 35.39 minutes\n",
      "Epoch: 159/999 | Loss: 0.0010 | Episodes: 160 | Win count: 90 | Win rate: 1.000 | time: 35.45 minutes\n",
      "Epoch: 160/999 | Loss: 0.0008 | Episodes: 161 | Win count: 91 | Win rate: 1.000 | time: 35.46 minutes\n",
      "Epoch: 161/999 | Loss: 0.0003 | Episodes: 162 | Win count: 92 | Win rate: 1.000 | time: 35.52 minutes\n",
      "Epoch: 162/999 | Loss: 0.0005 | Episodes: 163 | Win count: 93 | Win rate: 1.000 | time: 35.58 minutes\n"
     ]
    },
    {
     "name": "stdout",
     "output_type": "stream",
     "text": [
      "Epoch: 163/999 | Loss: 0.0007 | Episodes: 164 | Win count: 94 | Win rate: 1.000 | time: 35.59 minutes\n",
      "Epoch: 164/999 | Loss: 0.0008 | Episodes: 165 | Win count: 95 | Win rate: 1.000 | time: 35.62 minutes\n",
      "Epoch: 165/999 | Loss: 0.0014 | Episodes: 166 | Win count: 96 | Win rate: 1.000 | time: 35.65 minutes\n",
      "Epoch: 166/999 | Loss: 0.0003 | Episodes: 167 | Win count: 97 | Win rate: 1.000 | time: 35.73 minutes\n",
      "Epoch: 167/999 | Loss: 0.0013 | Episodes: 168 | Win count: 98 | Win rate: 1.000 | time: 35.84 minutes\n",
      "Epoch: 168/999 | Loss: 0.0006 | Episodes: 169 | Win count: 99 | Win rate: 1.000 | time: 36.15 minutes\n",
      "Epoch: 169/999 | Loss: 0.0007 | Episodes: 170 | Win count: 100 | Win rate: 1.000 | time: 36.23 minutes\n",
      "Epoch: 170/999 | Loss: 0.0004 | Episodes: 171 | Win count: 101 | Win rate: 1.000 | time: 36.25 minutes\n",
      "Epoch: 171/999 | Loss: 0.0006 | Episodes: 172 | Win count: 102 | Win rate: 1.000 | time: 36.32 minutes\n",
      "Epoch: 172/999 | Loss: 0.0011 | Episodes: 173 | Win count: 103 | Win rate: 1.000 | time: 36.37 minutes\n",
      "Epoch: 173/999 | Loss: 0.0006 | Episodes: 174 | Win count: 104 | Win rate: 1.000 | time: 36.38 minutes\n",
      "Epoch: 174/999 | Loss: 0.0007 | Episodes: 175 | Win count: 105 | Win rate: 1.000 | time: 36.39 minutes\n",
      "Epoch: 175/999 | Loss: 0.0014 | Episodes: 176 | Win count: 106 | Win rate: 1.000 | time: 36.45 minutes\n",
      "Epoch: 176/999 | Loss: 0.0011 | Episodes: 177 | Win count: 107 | Win rate: 1.000 | time: 36.49 minutes\n",
      "Epoch: 177/999 | Loss: 0.0004 | Episodes: 178 | Win count: 108 | Win rate: 1.000 | time: 36.62 minutes\n"
     ]
    },
    {
     "ename": "KeyboardInterrupt",
     "evalue": "",
     "output_type": "error",
     "traceback": [
      "\u001b[1;31m---------------------------------------------------------------------------\u001b[0m",
      "\u001b[1;31mKeyboardInterrupt\u001b[0m                         Traceback (most recent call last)",
      "\u001b[1;32m<ipython-input-12-99b176ae5410>\u001b[0m in \u001b[0;36m<module>\u001b[1;34m\u001b[0m\n\u001b[1;32m----> 1\u001b[1;33m \u001b[0mqtrain\u001b[0m\u001b[1;33m(\u001b[0m\u001b[0mmodel\u001b[0m\u001b[1;33m,\u001b[0m \u001b[0mmaze\u001b[0m\u001b[1;33m,\u001b[0m \u001b[0mn_epoch\u001b[0m\u001b[1;33m=\u001b[0m\u001b[1;36m1000\u001b[0m\u001b[1;33m,\u001b[0m \u001b[0mmax_memory\u001b[0m\u001b[1;33m=\u001b[0m\u001b[1;36m8\u001b[0m\u001b[1;33m*\u001b[0m\u001b[0mmaze\u001b[0m\u001b[1;33m.\u001b[0m\u001b[0msize\u001b[0m\u001b[1;33m,\u001b[0m \u001b[0mdata_size\u001b[0m\u001b[1;33m=\u001b[0m\u001b[1;36m32\u001b[0m\u001b[1;33m)\u001b[0m\u001b[1;33m\u001b[0m\u001b[1;33m\u001b[0m\u001b[0m\n\u001b[0m",
      "\u001b[1;32m<ipython-input-9-0535d3db7a6c>\u001b[0m in \u001b[0;36mqtrain\u001b[1;34m(model, maze, **opt)\u001b[0m\n\u001b[0;32m     43\u001b[0m \u001b[1;33m\u001b[0m\u001b[0m\n\u001b[0;32m     44\u001b[0m             \u001b[1;31m# Train on replayed experience\u001b[0m\u001b[1;33m\u001b[0m\u001b[1;33m\u001b[0m\u001b[1;33m\u001b[0m\u001b[0m\n\u001b[1;32m---> 45\u001b[1;33m             \u001b[0minputs\u001b[0m\u001b[1;33m,\u001b[0m \u001b[0mtargets\u001b[0m \u001b[1;33m=\u001b[0m \u001b[0mexperience\u001b[0m\u001b[1;33m.\u001b[0m\u001b[0mget_data\u001b[0m\u001b[1;33m(\u001b[0m\u001b[0mdata_size\u001b[0m\u001b[1;33m=\u001b[0m\u001b[0mdata_size\u001b[0m\u001b[1;33m)\u001b[0m\u001b[1;33m\u001b[0m\u001b[1;33m\u001b[0m\u001b[0m\n\u001b[0m\u001b[0;32m     46\u001b[0m             \u001b[0mmodel\u001b[0m\u001b[1;33m.\u001b[0m\u001b[0mfit\u001b[0m\u001b[1;33m(\u001b[0m\u001b[0minputs\u001b[0m\u001b[1;33m,\u001b[0m \u001b[0mtargets\u001b[0m\u001b[1;33m,\u001b[0m \u001b[0mepochs\u001b[0m\u001b[1;33m=\u001b[0m\u001b[1;36m1\u001b[0m\u001b[1;33m,\u001b[0m \u001b[0mverbose\u001b[0m\u001b[1;33m=\u001b[0m\u001b[1;36m0\u001b[0m\u001b[1;33m)\u001b[0m\u001b[1;33m\u001b[0m\u001b[1;33m\u001b[0m\u001b[0m\n\u001b[0;32m     47\u001b[0m             \u001b[0mloss\u001b[0m \u001b[1;33m=\u001b[0m \u001b[0mmodel\u001b[0m\u001b[1;33m.\u001b[0m\u001b[0mevaluate\u001b[0m\u001b[1;33m(\u001b[0m\u001b[0minputs\u001b[0m\u001b[1;33m,\u001b[0m \u001b[0mtargets\u001b[0m\u001b[1;33m,\u001b[0m \u001b[0mverbose\u001b[0m\u001b[1;33m=\u001b[0m\u001b[1;36m0\u001b[0m\u001b[1;33m)\u001b[0m\u001b[1;33m\u001b[0m\u001b[1;33m\u001b[0m\u001b[0m\n",
      "\u001b[1;32mU:\\TreasureHuntGame\\TreasureHuntGame\\GameExperience.py\u001b[0m in \u001b[0;36mget_data\u001b[1;34m(self, data_size)\u001b[0m\n\u001b[0;32m     42\u001b[0m             \u001b[0minputs\u001b[0m\u001b[1;33m[\u001b[0m\u001b[0mi\u001b[0m\u001b[1;33m]\u001b[0m \u001b[1;33m=\u001b[0m \u001b[0menvstate\u001b[0m\u001b[1;33m\u001b[0m\u001b[1;33m\u001b[0m\u001b[0m\n\u001b[0;32m     43\u001b[0m             \u001b[1;31m# There should be no target values for actions not taken.\u001b[0m\u001b[1;33m\u001b[0m\u001b[1;33m\u001b[0m\u001b[1;33m\u001b[0m\u001b[0m\n\u001b[1;32m---> 44\u001b[1;33m             \u001b[0mtargets\u001b[0m\u001b[1;33m[\u001b[0m\u001b[0mi\u001b[0m\u001b[1;33m]\u001b[0m \u001b[1;33m=\u001b[0m \u001b[0mself\u001b[0m\u001b[1;33m.\u001b[0m\u001b[0mpredict\u001b[0m\u001b[1;33m(\u001b[0m\u001b[0menvstate\u001b[0m\u001b[1;33m)\u001b[0m\u001b[1;33m\u001b[0m\u001b[1;33m\u001b[0m\u001b[0m\n\u001b[0m\u001b[0;32m     45\u001b[0m             \u001b[1;31m# Q_sa = derived policy = max quality env/action = max_a' Q(s', a')\u001b[0m\u001b[1;33m\u001b[0m\u001b[1;33m\u001b[0m\u001b[1;33m\u001b[0m\u001b[0m\n\u001b[0;32m     46\u001b[0m             \u001b[0mQ_sa\u001b[0m \u001b[1;33m=\u001b[0m \u001b[0mnp\u001b[0m\u001b[1;33m.\u001b[0m\u001b[0mmax\u001b[0m\u001b[1;33m(\u001b[0m\u001b[0mself\u001b[0m\u001b[1;33m.\u001b[0m\u001b[0mpredict\u001b[0m\u001b[1;33m(\u001b[0m\u001b[0menvstate_next\u001b[0m\u001b[1;33m)\u001b[0m\u001b[1;33m)\u001b[0m\u001b[1;33m\u001b[0m\u001b[1;33m\u001b[0m\u001b[0m\n",
      "\u001b[1;32mU:\\TreasureHuntGame\\TreasureHuntGame\\GameExperience.py\u001b[0m in \u001b[0;36mpredict\u001b[1;34m(self, envstate)\u001b[0m\n\u001b[0;32m     29\u001b[0m     \u001b[1;31m# Predicts the next action based on the current environment state\u001b[0m\u001b[1;33m\u001b[0m\u001b[1;33m\u001b[0m\u001b[1;33m\u001b[0m\u001b[0m\n\u001b[0;32m     30\u001b[0m     \u001b[1;32mdef\u001b[0m \u001b[0mpredict\u001b[0m\u001b[1;33m(\u001b[0m\u001b[0mself\u001b[0m\u001b[1;33m,\u001b[0m \u001b[0menvstate\u001b[0m\u001b[1;33m)\u001b[0m\u001b[1;33m:\u001b[0m\u001b[1;33m\u001b[0m\u001b[1;33m\u001b[0m\u001b[0m\n\u001b[1;32m---> 31\u001b[1;33m         \u001b[1;32mreturn\u001b[0m \u001b[0mself\u001b[0m\u001b[1;33m.\u001b[0m\u001b[0mmodel\u001b[0m\u001b[1;33m.\u001b[0m\u001b[0mpredict\u001b[0m\u001b[1;33m(\u001b[0m\u001b[0menvstate\u001b[0m\u001b[1;33m)\u001b[0m\u001b[1;33m[\u001b[0m\u001b[1;36m0\u001b[0m\u001b[1;33m]\u001b[0m\u001b[1;33m\u001b[0m\u001b[1;33m\u001b[0m\u001b[0m\n\u001b[0m\u001b[0;32m     32\u001b[0m \u001b[1;33m\u001b[0m\u001b[0m\n\u001b[0;32m     33\u001b[0m     \u001b[1;31m# Returns input and targets from memory, defaults to data size of 10\u001b[0m\u001b[1;33m\u001b[0m\u001b[1;33m\u001b[0m\u001b[1;33m\u001b[0m\u001b[0m\n",
      "\u001b[1;32mC:\\ProgramData\\Anaconda3\\lib\\site-packages\\keras\\engine\\training.py\u001b[0m in \u001b[0;36mpredict\u001b[1;34m(self, x, batch_size, verbose, steps, callbacks, max_queue_size, workers, use_multiprocessing)\u001b[0m\n\u001b[0;32m   1460\u001b[0m                                             \u001b[0mverbose\u001b[0m\u001b[1;33m=\u001b[0m\u001b[0mverbose\u001b[0m\u001b[1;33m,\u001b[0m\u001b[1;33m\u001b[0m\u001b[1;33m\u001b[0m\u001b[0m\n\u001b[0;32m   1461\u001b[0m                                             \u001b[0msteps\u001b[0m\u001b[1;33m=\u001b[0m\u001b[0msteps\u001b[0m\u001b[1;33m,\u001b[0m\u001b[1;33m\u001b[0m\u001b[1;33m\u001b[0m\u001b[0m\n\u001b[1;32m-> 1462\u001b[1;33m                                             callbacks=callbacks)\n\u001b[0m\u001b[0;32m   1463\u001b[0m \u001b[1;33m\u001b[0m\u001b[0m\n\u001b[0;32m   1464\u001b[0m     def train_on_batch(self, x, y,\n",
      "\u001b[1;32mC:\\ProgramData\\Anaconda3\\lib\\site-packages\\keras\\engine\\training_arrays.py\u001b[0m in \u001b[0;36mpredict_loop\u001b[1;34m(model, f, ins, batch_size, verbose, steps, callbacks)\u001b[0m\n\u001b[0;32m    322\u001b[0m             \u001b[0mbatch_logs\u001b[0m \u001b[1;33m=\u001b[0m \u001b[1;33m{\u001b[0m\u001b[1;34m'batch'\u001b[0m\u001b[1;33m:\u001b[0m \u001b[0mbatch_index\u001b[0m\u001b[1;33m,\u001b[0m \u001b[1;34m'size'\u001b[0m\u001b[1;33m:\u001b[0m \u001b[0mlen\u001b[0m\u001b[1;33m(\u001b[0m\u001b[0mbatch_ids\u001b[0m\u001b[1;33m)\u001b[0m\u001b[1;33m}\u001b[0m\u001b[1;33m\u001b[0m\u001b[1;33m\u001b[0m\u001b[0m\n\u001b[0;32m    323\u001b[0m             \u001b[0mcallbacks\u001b[0m\u001b[1;33m.\u001b[0m\u001b[0m_call_batch_hook\u001b[0m\u001b[1;33m(\u001b[0m\u001b[1;34m'predict'\u001b[0m\u001b[1;33m,\u001b[0m \u001b[1;34m'begin'\u001b[0m\u001b[1;33m,\u001b[0m \u001b[0mbatch_index\u001b[0m\u001b[1;33m,\u001b[0m \u001b[0mbatch_logs\u001b[0m\u001b[1;33m)\u001b[0m\u001b[1;33m\u001b[0m\u001b[1;33m\u001b[0m\u001b[0m\n\u001b[1;32m--> 324\u001b[1;33m             \u001b[0mbatch_outs\u001b[0m \u001b[1;33m=\u001b[0m \u001b[0mf\u001b[0m\u001b[1;33m(\u001b[0m\u001b[0mins_batch\u001b[0m\u001b[1;33m)\u001b[0m\u001b[1;33m\u001b[0m\u001b[1;33m\u001b[0m\u001b[0m\n\u001b[0m\u001b[0;32m    325\u001b[0m             \u001b[0mbatch_outs\u001b[0m \u001b[1;33m=\u001b[0m \u001b[0mto_list\u001b[0m\u001b[1;33m(\u001b[0m\u001b[0mbatch_outs\u001b[0m\u001b[1;33m)\u001b[0m\u001b[1;33m\u001b[0m\u001b[1;33m\u001b[0m\u001b[0m\n\u001b[0;32m    326\u001b[0m             \u001b[1;32mif\u001b[0m \u001b[0mbatch_index\u001b[0m \u001b[1;33m==\u001b[0m \u001b[1;36m0\u001b[0m\u001b[1;33m:\u001b[0m\u001b[1;33m\u001b[0m\u001b[1;33m\u001b[0m\u001b[0m\n",
      "\u001b[1;32mC:\\ProgramData\\Anaconda3\\lib\\site-packages\\tensorflow_core\\python\\keras\\backend.py\u001b[0m in \u001b[0;36m__call__\u001b[1;34m(self, inputs)\u001b[0m\n\u001b[0;32m   3725\u001b[0m         \u001b[0mvalue\u001b[0m \u001b[1;33m=\u001b[0m \u001b[0mmath_ops\u001b[0m\u001b[1;33m.\u001b[0m\u001b[0mcast\u001b[0m\u001b[1;33m(\u001b[0m\u001b[0mvalue\u001b[0m\u001b[1;33m,\u001b[0m \u001b[0mtensor\u001b[0m\u001b[1;33m.\u001b[0m\u001b[0mdtype\u001b[0m\u001b[1;33m)\u001b[0m\u001b[1;33m\u001b[0m\u001b[1;33m\u001b[0m\u001b[0m\n\u001b[0;32m   3726\u001b[0m       \u001b[0mconverted_inputs\u001b[0m\u001b[1;33m.\u001b[0m\u001b[0mappend\u001b[0m\u001b[1;33m(\u001b[0m\u001b[0mvalue\u001b[0m\u001b[1;33m)\u001b[0m\u001b[1;33m\u001b[0m\u001b[1;33m\u001b[0m\u001b[0m\n\u001b[1;32m-> 3727\u001b[1;33m     \u001b[0moutputs\u001b[0m \u001b[1;33m=\u001b[0m \u001b[0mself\u001b[0m\u001b[1;33m.\u001b[0m\u001b[0m_graph_fn\u001b[0m\u001b[1;33m(\u001b[0m\u001b[1;33m*\u001b[0m\u001b[0mconverted_inputs\u001b[0m\u001b[1;33m)\u001b[0m\u001b[1;33m\u001b[0m\u001b[1;33m\u001b[0m\u001b[0m\n\u001b[0m\u001b[0;32m   3728\u001b[0m \u001b[1;33m\u001b[0m\u001b[0m\n\u001b[0;32m   3729\u001b[0m     \u001b[1;31m# EagerTensor.numpy() will often make a copy to ensure memory safety.\u001b[0m\u001b[1;33m\u001b[0m\u001b[1;33m\u001b[0m\u001b[1;33m\u001b[0m\u001b[0m\n",
      "\u001b[1;32mC:\\ProgramData\\Anaconda3\\lib\\site-packages\\tensorflow_core\\python\\eager\\function.py\u001b[0m in \u001b[0;36m__call__\u001b[1;34m(self, *args, **kwargs)\u001b[0m\n\u001b[0;32m   1549\u001b[0m       \u001b[0mTypeError\u001b[0m\u001b[1;33m:\u001b[0m \u001b[0mFor\u001b[0m \u001b[0minvalid\u001b[0m \u001b[0mpositional\u001b[0m\u001b[1;33m/\u001b[0m\u001b[0mkeyword\u001b[0m \u001b[0margument\u001b[0m \u001b[0mcombinations\u001b[0m\u001b[1;33m.\u001b[0m\u001b[1;33m\u001b[0m\u001b[1;33m\u001b[0m\u001b[0m\n\u001b[0;32m   1550\u001b[0m     \"\"\"\n\u001b[1;32m-> 1551\u001b[1;33m     \u001b[1;32mreturn\u001b[0m \u001b[0mself\u001b[0m\u001b[1;33m.\u001b[0m\u001b[0m_call_impl\u001b[0m\u001b[1;33m(\u001b[0m\u001b[0margs\u001b[0m\u001b[1;33m,\u001b[0m \u001b[0mkwargs\u001b[0m\u001b[1;33m)\u001b[0m\u001b[1;33m\u001b[0m\u001b[1;33m\u001b[0m\u001b[0m\n\u001b[0m\u001b[0;32m   1552\u001b[0m \u001b[1;33m\u001b[0m\u001b[0m\n\u001b[0;32m   1553\u001b[0m   \u001b[1;32mdef\u001b[0m \u001b[0m_call_impl\u001b[0m\u001b[1;33m(\u001b[0m\u001b[0mself\u001b[0m\u001b[1;33m,\u001b[0m \u001b[0margs\u001b[0m\u001b[1;33m,\u001b[0m \u001b[0mkwargs\u001b[0m\u001b[1;33m,\u001b[0m \u001b[0mcancellation_manager\u001b[0m\u001b[1;33m=\u001b[0m\u001b[1;32mNone\u001b[0m\u001b[1;33m)\u001b[0m\u001b[1;33m:\u001b[0m\u001b[1;33m\u001b[0m\u001b[1;33m\u001b[0m\u001b[0m\n",
      "\u001b[1;32mC:\\ProgramData\\Anaconda3\\lib\\site-packages\\tensorflow_core\\python\\eager\\function.py\u001b[0m in \u001b[0;36m_call_impl\u001b[1;34m(self, args, kwargs, cancellation_manager)\u001b[0m\n\u001b[0;32m   1589\u001b[0m       raise TypeError(\"Keyword arguments {} unknown. Expected {}.\".format(\n\u001b[0;32m   1590\u001b[0m           list(kwargs.keys()), list(self._arg_keywords)))\n\u001b[1;32m-> 1591\u001b[1;33m     \u001b[1;32mreturn\u001b[0m \u001b[0mself\u001b[0m\u001b[1;33m.\u001b[0m\u001b[0m_call_flat\u001b[0m\u001b[1;33m(\u001b[0m\u001b[0margs\u001b[0m\u001b[1;33m,\u001b[0m \u001b[0mself\u001b[0m\u001b[1;33m.\u001b[0m\u001b[0mcaptured_inputs\u001b[0m\u001b[1;33m,\u001b[0m \u001b[0mcancellation_manager\u001b[0m\u001b[1;33m)\u001b[0m\u001b[1;33m\u001b[0m\u001b[1;33m\u001b[0m\u001b[0m\n\u001b[0m\u001b[0;32m   1592\u001b[0m \u001b[1;33m\u001b[0m\u001b[0m\n\u001b[0;32m   1593\u001b[0m   \u001b[1;32mdef\u001b[0m \u001b[0m_filtered_call\u001b[0m\u001b[1;33m(\u001b[0m\u001b[0mself\u001b[0m\u001b[1;33m,\u001b[0m \u001b[0margs\u001b[0m\u001b[1;33m,\u001b[0m \u001b[0mkwargs\u001b[0m\u001b[1;33m)\u001b[0m\u001b[1;33m:\u001b[0m\u001b[1;33m\u001b[0m\u001b[1;33m\u001b[0m\u001b[0m\n",
      "\u001b[1;32mC:\\ProgramData\\Anaconda3\\lib\\site-packages\\tensorflow_core\\python\\eager\\function.py\u001b[0m in \u001b[0;36m_call_flat\u001b[1;34m(self, args, captured_inputs, cancellation_manager)\u001b[0m\n\u001b[0;32m   1690\u001b[0m       \u001b[1;31m# No tape is watching; skip to running the function.\u001b[0m\u001b[1;33m\u001b[0m\u001b[1;33m\u001b[0m\u001b[1;33m\u001b[0m\u001b[0m\n\u001b[0;32m   1691\u001b[0m       return self._build_call_outputs(self._inference_function.call(\n\u001b[1;32m-> 1692\u001b[1;33m           ctx, args, cancellation_manager=cancellation_manager))\n\u001b[0m\u001b[0;32m   1693\u001b[0m     forward_backward = self._select_forward_and_backward_functions(\n\u001b[0;32m   1694\u001b[0m         \u001b[0margs\u001b[0m\u001b[1;33m,\u001b[0m\u001b[1;33m\u001b[0m\u001b[1;33m\u001b[0m\u001b[0m\n",
      "\u001b[1;32mC:\\ProgramData\\Anaconda3\\lib\\site-packages\\tensorflow_core\\python\\eager\\function.py\u001b[0m in \u001b[0;36mcall\u001b[1;34m(self, ctx, args, cancellation_manager)\u001b[0m\n\u001b[0;32m    543\u001b[0m               \u001b[0minputs\u001b[0m\u001b[1;33m=\u001b[0m\u001b[0margs\u001b[0m\u001b[1;33m,\u001b[0m\u001b[1;33m\u001b[0m\u001b[1;33m\u001b[0m\u001b[0m\n\u001b[0;32m    544\u001b[0m               \u001b[0mattrs\u001b[0m\u001b[1;33m=\u001b[0m\u001b[1;33m(\u001b[0m\u001b[1;34m\"executor_type\"\u001b[0m\u001b[1;33m,\u001b[0m \u001b[0mexecutor_type\u001b[0m\u001b[1;33m,\u001b[0m \u001b[1;34m\"config_proto\"\u001b[0m\u001b[1;33m,\u001b[0m \u001b[0mconfig\u001b[0m\u001b[1;33m)\u001b[0m\u001b[1;33m,\u001b[0m\u001b[1;33m\u001b[0m\u001b[1;33m\u001b[0m\u001b[0m\n\u001b[1;32m--> 545\u001b[1;33m               ctx=ctx)\n\u001b[0m\u001b[0;32m    546\u001b[0m         \u001b[1;32melse\u001b[0m\u001b[1;33m:\u001b[0m\u001b[1;33m\u001b[0m\u001b[1;33m\u001b[0m\u001b[0m\n\u001b[0;32m    547\u001b[0m           outputs = execute.execute_with_cancellation(\n",
      "\u001b[1;32mC:\\ProgramData\\Anaconda3\\lib\\site-packages\\tensorflow_core\\python\\eager\\execute.py\u001b[0m in \u001b[0;36mquick_execute\u001b[1;34m(op_name, num_outputs, inputs, attrs, ctx, name)\u001b[0m\n\u001b[0;32m     59\u001b[0m     tensors = pywrap_tensorflow.TFE_Py_Execute(ctx._handle, device_name,\n\u001b[0;32m     60\u001b[0m                                                \u001b[0mop_name\u001b[0m\u001b[1;33m,\u001b[0m \u001b[0minputs\u001b[0m\u001b[1;33m,\u001b[0m \u001b[0mattrs\u001b[0m\u001b[1;33m,\u001b[0m\u001b[1;33m\u001b[0m\u001b[1;33m\u001b[0m\u001b[0m\n\u001b[1;32m---> 61\u001b[1;33m                                                num_outputs)\n\u001b[0m\u001b[0;32m     62\u001b[0m   \u001b[1;32mexcept\u001b[0m \u001b[0mcore\u001b[0m\u001b[1;33m.\u001b[0m\u001b[0m_NotOkStatusException\u001b[0m \u001b[1;32mas\u001b[0m \u001b[0me\u001b[0m\u001b[1;33m:\u001b[0m\u001b[1;33m\u001b[0m\u001b[1;33m\u001b[0m\u001b[0m\n\u001b[0;32m     63\u001b[0m     \u001b[1;32mif\u001b[0m \u001b[0mname\u001b[0m \u001b[1;32mis\u001b[0m \u001b[1;32mnot\u001b[0m \u001b[1;32mNone\u001b[0m\u001b[1;33m:\u001b[0m\u001b[1;33m\u001b[0m\u001b[1;33m\u001b[0m\u001b[0m\n",
      "\u001b[1;31mKeyboardInterrupt\u001b[0m: "
     ]
    }
   ],
   "source": [
    "qtrain(model, maze, n_epoch=1000, max_memory=8*maze.size, data_size=32)\n"
   ]
  },
  {
   "cell_type": "markdown",
   "metadata": {},
   "source": [
    "This cell will check to see if the model passes the completion check. Note: This could take several minutes."
   ]
  },
  {
   "cell_type": "code",
   "execution_count": 13,
   "metadata": {
    "scrolled": true
   },
   "outputs": [
    {
     "data": {
      "text/plain": [
       "<matplotlib.image.AxesImage at 0x1eae6c06508>"
      ]
     },
     "execution_count": 13,
     "metadata": {},
     "output_type": "execute_result"
    },
    {
     "data": {
      "image/png": "[encoded data removed]",
      "text/plain": [
       "<Figure size 432x288 with 1 Axes>"
      ]
     },
     "metadata": {
      "needs_background": "light"
     },
     "output_type": "display_data"
    }
   ],
   "source": [
    "completion_check(model, qmaze)\n",
    "show(qmaze)"
   ]
  },
  {
   "cell_type": "markdown",
   "metadata": {},
   "source": [
    "This cell will test your model for one game. It will start the pirate at the top-left corner and run play_game. The agent should find a path from the starting position to the target (treasure). The treasure is located in the bottom-right corner."
   ]
  },
  {
   "cell_type": "code",
   "execution_count": 14,
   "metadata": {},
   "outputs": [
    {
     "data": {
      "text/plain": [
       "<matplotlib.image.AxesImage at 0x1eae6af85c8>"
      ]
     },
     "execution_count": 14,
     "metadata": {},
     "output_type": "execute_result"
    },
    {
     "data": {
      "image/png": "[encoded data removed]",
      "text/plain": [
       "<Figure size 432x288 with 1 Axes>"
      ]
     },
     "metadata": {
      "needs_background": "light"
     },
     "output_type": "display_data"
    }
   ],
   "source": [
    "pirate_start = (0, 0)\n",
    "play_game(model, qmaze, pirate_start)\n",
    "show(qmaze)"
   ]
  },
  {
   "cell_type": "markdown",
   "metadata": {},
   "source": [
    "## Save and Submit Your Work\n",
    "After you have finished creating the code for your notebook, save your work. Make sure that your notebook contains your name in the filename (e.g. Doe_Jane_ProjectTwo.ipynb). This will help your instructor access and grade your work easily. Download a copy of your IPYNB file and submit it to Brightspace. Refer to the Jupyter Notebook in Apporto Tutorial if you need help with these tasks."
   ]
  }
 ],
 "metadata": {
  "kernelspec": {
   "display_name": "Python 3",
   "language": "python",
   "name": "python3"
  },
  "language_info": {
   "codemirror_mode": {
    "name": "ipython",
    "version": 3
   },
   "file_extension": ".py",
   "mimetype": "text/x-python",
   "name": "python",
   "nbconvert_exporter": "python",
   "pygments_lexer": "ipython3",
   "version": "3.7.4"
  }
 },
 "nbformat": 4,
 "nbformat_minor": 2
}
